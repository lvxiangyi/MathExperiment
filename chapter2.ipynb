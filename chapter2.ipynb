{
 "cells": [
  {
   "cell_type": "markdown",
   "metadata": {},
   "source": [
    "3.1 求下列积分的符号解.<p>\n",
    "(1)  $ \\int_{0}^{1} \\sqrt{1+4x} \\,dx $；(2) $ \\int_{0}^{\\infty}e^{-x}\\sin x \\, dx$ \n"
   ]
  },
  {
   "cell_type": "code",
   "execution_count": 2,
   "metadata": {},
   "outputs": [
    {
     "name": "stdout",
     "output_type": "stream",
     "text": [
      "-1/6 + 5*sqrt(5)/6\n"
     ]
    }
   ],
   "source": [
    "import sympy as sp\n",
    "\n",
    "# 定义符号变量\n",
    "x = sp.Symbol('x')\n",
    "\n",
    "# 定义被积函数\n",
    "f = sp.sqrt(1 + 4 * x)\n",
    "\n",
    "# 计算积分\n",
    "result = sp.integrate(f, (x, 0, 1))\n",
    "\n",
    "# 输出结果\n",
    "print(result)"
   ]
  },
  {
   "cell_type": "code",
   "execution_count": 5,
   "metadata": {
    "scrolled": true
   },
   "outputs": [
    {
     "name": "stdout",
     "output_type": "stream",
     "text": [
      "1/2\n"
     ]
    }
   ],
   "source": [
    "import sympy as sp\n",
    "\n",
    "# 定义符号变量\n",
    "x = sp.Symbol('x')\n",
    "\n",
    "# 定义被积函数\n",
    "f = sp.exp(-x) * sp.sin(x)\n",
    "\n",
    "# 计算积分\n",
    "result = sp.integrate(f, (x, 0, sp.oo))\n",
    "\n",
    "# 输出结果\n",
    "print(result)"
   ]
  },
  {
   "cell_type": "markdown",
   "metadata": {},
   "source": [
    "3.2 求方程的符号解和数值解<p>\n",
    " <center>   $x^3-4x^2+6x-8=0$ </center>"
   ]
  },
  {
   "cell_type": "code",
   "execution_count": 8,
   "metadata": {},
   "outputs": [
    {
     "name": "stdout",
     "output_type": "stream",
     "text": [
      "符号解： [4/3 + (-1/2 - sqrt(3)*I/2)*(64/27 + 2*sqrt(114)/9)**(1/3) - 2/(9*(-1/2 - sqrt(3)*I/2)*(64/27 + 2*sqrt(114)/9)**(1/3)), 4/3 - 2/(9*(-1/2 + sqrt(3)*I/2)*(64/27 + 2*sqrt(114)/9)**(1/3)) + (-1/2 + sqrt(3)*I/2)*(64/27 + 2*sqrt(114)/9)**(1/3), -2/(9*(64/27 + 2*sqrt(114)/9)**(1/3)) + 4/3 + (64/27 + 2*sqrt(114)/9)**(1/3)]\n",
      "数值解： 0.559380299461801 - 1.56961032188996*I\n",
      "数值解： 0.559380299461801 + 1.56961032188996*I\n",
      "数值解： 2.88123940107640\n"
     ]
    }
   ],
   "source": [
    "# 定义符号变量\n",
    "x = sp.Symbol('x')\n",
    "\n",
    "# 定义方程\n",
    "eq = x**3 - 4*x**2 + 6*x - 8\n",
    "\n",
    "# 求解方程\n",
    "solutions = sp.solve(eq, x)\n",
    "\n",
    "# 输出符号解\n",
    "print(\"符号解：\", solutions)\n",
    "\n",
    "# 输出数值解\n",
    "for sol in solutions:\n",
    "    print(\"数值解：\", sol.evalf())"
   ]
  },
  {
   "cell_type": "markdown",
   "metadata": {},
   "source": [
    "3.3 求方程组的符号解和数值解<p>\n",
    "$$\n",
    "\\left\\{\n",
    "\\begin{aligned}\n",
    "& x^2 - y - x = 3 \\\\\n",
    "& x + 3y = 6\n",
    "\\end{aligned}\n",
    "\\right.\n",
    "$$"
   ]
  },
  {
   "cell_type": "code",
   "execution_count": 11,
   "metadata": {},
   "outputs": [
    {
     "name": "stdout",
     "output_type": "stream",
     "text": [
      "符号解： [(1/3 + sqrt(46)/3, -sqrt(46)/9 + 17/9), (-sqrt(46)/3 + 1/3, sqrt(46)/9 + 17/9)]\n",
      "数值解： 2.59410999437509 1.13529666854164\n",
      "数值解： -1.92744332770842 2.64248110923614\n"
     ]
    }
   ],
   "source": [
    "# 定义符号变量\n",
    "x, y = sp.symbols('x y')\n",
    "\n",
    "# 定义方程组\n",
    "eq1 = x**2 - y - x - 3\n",
    "eq2 = x + 3*y - 6\n",
    "eqs = [eq1, eq2]\n",
    "\n",
    "# 求解方程组\n",
    "solutions = sp.solve(eqs, [x, y])\n",
    "\n",
    "# 输出符号解\n",
    "print(\"符号解：\", solutions)\n",
    "\n",
    "# 输出数值解\n",
    "for sol in solutions:\n",
    "    print(\"数值解：\", sol[0].evalf(), sol[1].evalf())"
   ]
  },
  {
   "cell_type": "markdown",
   "metadata": {},
   "source": [
    "3.4 求边值问题 $y\"+y=x\\cos 2x,y(0)=1,y(2)=3$的符号解\n"
   ]
  },
  {
   "cell_type": "code",
   "execution_count": 13,
   "metadata": {},
   "outputs": [
    {
     "name": "stdout",
     "output_type": "stream",
     "text": [
      "符号解： Eq(y(x), C1*sin(x) + C2*cos(x) - x*cos(2*x)/3 + 4*sin(2*x)/9)\n"
     ]
    }
   ],
   "source": [
    "# 定义符号变量\n",
    "x = sp.symbols('x')\n",
    "\n",
    "# 定义未知函数\n",
    "y = sp.Function('y')(x)\n",
    "\n",
    "# 定义微分方程\n",
    "eq = sp.diff(y, x, x) + y - x*sp.cos(2*x)\n",
    "\n",
    "# 定义边界条件\n",
    "bc = [sp.Eq(y.subs(x, 0), 1), sp.Eq(y.subs(x, 2), 3)]\n",
    "\n",
    "# 求解边值问题\n",
    "sol = sp.dsolve(eq, y, bc=bc)\n",
    "# 输出符号解\n",
    "print(\"符号解：\", sol)"
   ]
  },
  {
   "cell_type": "markdown",
   "metadata": {},
   "source": [
    "3.5 已知<p>\n",
    "    $A_{1}=\n",
    "\\begin{bmatrix}\n",
    "1 & 2 \\\\\n",
    "3 & 4 \\\\\n",
    "5 & 6 \\\\\n",
    "\\end{bmatrix}\n",
    ",A_{2}=\n",
    "\\begin{bmatrix}\n",
    "1 & 1 \\\\\n",
    "2 & 2 \\\\\n",
    "3 & 4 \\\\\n",
    "\\end{bmatrix}\n",
    ",A_{3}=[2 ,6],A_{4}=[3 ,2]$，利用python分块矩阵的组合，求分块矩阵$A=\\begin{bmatrix}\n",
    "A_{1} & A_{2}\\\\\n",
    "A_{3} & A_{4}\\\\\n",
    "\\end{bmatrix}$的行列式|A|."
   ]
  },
  {
   "cell_type": "code",
   "execution_count": 16,
   "metadata": {},
   "outputs": [
    {
     "name": "stdout",
     "output_type": "stream",
     "text": [
      "|A| = -2.55351295663785e-16\n"
     ]
    }
   ],
   "source": [
    "import numpy as np\n",
    "# 定义分块矩阵的子矩阵\n",
    "A1 = np.array([[1, 2], [3, 4], [5, 6]])\n",
    "A2 = np.array([[1, 1], [2, 2], [3, 4]])\n",
    "A3 = np.array([2, 6])\n",
    "A4 = np.array([3, 2])\n",
    "\n",
    "# 组合成分块矩阵\n",
    "A = np.block([[A1, A2], [A3, A4]])\n",
    "\n",
    "# 求行列式\n",
    "det_A = np.linalg.det(A)\n",
    "\n",
    "# 输出结果\n",
    "print(\"|A| =\", det_A)"
   ]
  },
  {
   "cell_type": "markdown",
   "metadata": {},
   "source": [
    "3.6  求解下列线性方程组\n",
    "$(1)\\left\\{\n",
    "\\begin{aligned}\n",
    "& x_{1}+2x_2+x_3-x_4=0 \\\\\n",
    "& 3x_1+6x_2+x_3-3x_4=0\\\\\n",
    "& 5x_1+10x_2+x_3-5x_4=0\\\\\n",
    "\\end{aligned}\n",
    "\\right.$\n"
   ]
  },
  {
   "cell_type": "code",
   "execution_count": 19,
   "metadata": {},
   "outputs": [
    {
     "name": "stdout",
     "output_type": "stream",
     "text": [
      "A的零空间为 [Matrix([\n",
      "[-2],\n",
      "[ 1],\n",
      "[ 0],\n",
      "[ 0]]), Matrix([\n",
      "[1],\n",
      "[0],\n",
      "[0],\n",
      "[1]])]\n"
     ]
    }
   ],
   "source": [
    "A=sp.Matrix([[1,2,1,-1],[3,6,1,-3],[5,10,1,-5]])\n",
    "print(\"A的零空间为\",A.nullspace())"
   ]
  },
  {
   "cell_type": "markdown",
   "metadata": {},
   "source": [
    "3.7 先判断下列线性方程组解的情况，然后求对应的唯一解，最小二乘解或最小范数解。<p>\n",
    "$(1)\\left\\{\n",
    "\\begin{aligned}\n",
    "& 4x_{1}+2x_2-x_3=2 \\\\\n",
    "& 3x_1-x_2+2x_3=10\\\\\n",
    "& 11x_1+3x_2=8\\\\\n",
    "\\end{aligned}\n",
    "\\right.$"
   ]
  },
  {
   "cell_type": "code",
   "execution_count": 7,
   "metadata": {},
   "outputs": [
    {
     "name": "stdout",
     "output_type": "stream",
     "text": [
      "该矩阵的秩为： 2\n"
     ]
    }
   ],
   "source": [
    "import numpy as np\n",
    "A = np.array([[4,2,-1], [3, -1,2], [11,3,0]])\n",
    "rank = np.linalg.matrix_rank(A)\n",
    "print(\"该矩阵的秩为：\", rank)\n"
   ]
  },
  {
   "cell_type": "code",
   "execution_count": 8,
   "metadata": {},
   "outputs": [
    {
     "name": "stdout",
     "output_type": "stream",
     "text": [
      "该矩阵的秩为： 2\n",
      "最小二乘解为： [ 1.21304348 -1.44782609  1.95652174]\n"
     ]
    }
   ],
   "source": [
    "import numpy as np\n",
    "A = np.array([[4,2,-1], [3, -1,2], [11,3,0]])\n",
    "rank = np.linalg.matrix_rank(A)\n",
    "print(\"该矩阵的秩为：\", rank)\n",
    "x_lstsq = np.linalg.lstsq(A, b, rcond=None)[0]\n",
    "print(\"最小二乘解为：\", x_lstsq)\n"
   ]
  },
  {
   "cell_type": "markdown",
   "metadata": {},
   "source": [
    "3.8 求下列矩阵的特征值和特征向量：\n",
    "\\begin{bmatrix}\n",
    "6 & 2 & 4 \\\\\n",
    "2 & 3 & 2 \\\\\n",
    "4 & 2 & 6\\\\\n",
    "\\end{bmatrix}"
   ]
  },
  {
   "cell_type": "code",
   "execution_count": 9,
   "metadata": {},
   "outputs": [
    {
     "name": "stdout",
     "output_type": "stream",
     "text": [
      "特征值为： [ 2. 11.  2.]\n",
      "特征向量为： [[-0.74535599  0.66666667 -0.41036589]\n",
      " [ 0.2981424   0.33333333 -0.58251539]\n",
      " [ 0.59628479  0.66666667  0.70162359]]\n"
     ]
    }
   ],
   "source": [
    "import numpy as np\n",
    "\n",
    "# 将矩阵定义为NumPy数组\n",
    "A = np.array([[6, 2, 4], [2, 3, 2], [4, 2, 6]])\n",
    "\n",
    "# 计算特征值和特征向量\n",
    "eigenvalues, eigenvectors = np.linalg.eig(A)\n",
    "print(\"特征值为：\", eigenvalues)\n",
    "print(\"特征向量为：\", eigenvectors)"
   ]
  },
  {
   "cell_type": "markdown",
   "metadata": {},
   "source": [
    "3.9 已知二次型$f=x_1^2+x_2^2+x_3^2+2ax_1x_2+2x_1x_2+2x_1x_3+2bx_2x_3$经过正交变换化为标准型$f=y_2^2+2y_3^2$,求参数a,b及所用的正交变换矩阵。\n"
   ]
  },
  {
   "cell_type": "code",
   "execution_count": 11,
   "metadata": {},
   "outputs": [
    {
     "name": "stdout",
     "output_type": "stream",
     "text": [
      "正交变换矩阵为： [[-8.88073834e-01  3.25057584e-01  3.25057584e-01]\n",
      " [ 4.59700843e-01  6.27963030e-01  6.27963030e-01]\n",
      " [-1.35287151e-17 -7.07106781e-01  7.07106781e-01]]\n",
      "参数a为： -0.8660254037844384\n",
      "参数b为： 2.366025403784438\n"
     ]
    }
   ],
   "source": [
    "import numpy as np\n",
    "# 定义参数a和b\n",
    "a = 1\n",
    "b = 2\n",
    "# 定义原始矩阵\n",
    "A = np.array([[1, a, 1],\n",
    "              [a, 1, b],\n",
    "              [1, b, 1]])\n",
    "\n",
    "# 计算特征值和特征向量\n",
    "eigenvalues, eigenvectors = np.linalg.eig(A)\n",
    "\n",
    "# 构建正交变换矩阵\n",
    "P = eigenvectors.T\n",
    "\n",
    "# 计算参数a和b\n",
    "a = (eigenvalues[0] - eigenvalues[1]) / 4.0\n",
    "b = (eigenvalues[1] - eigenvalues[2]) / 2.0\n",
    "\n",
    "# 输出结果\n",
    "print(\"正交变换矩阵为：\", P)\n",
    "print(\"参数a为：\", a)\n",
    "print(\"参数b为：\", b)"
   ]
  },
  {
   "cell_type": "markdown",
   "metadata": {},
   "source": [
    "3.10 画出$\\cos\\sqrt{x^2+1}$及它在0处的1，3，5阶泰勒展开式在$x\\in[-3,3]$"
   ]
  },
  {
   "cell_type": "code",
   "execution_count": 22,
   "metadata": {
    "scrolled": true
   },
   "outputs": [
    {
     "data": {
      "image/png": "[encoded data removed]",
      "text/plain": [
       "<Figure size 432x288 with 1 Axes>"
      ]
     },
     "metadata": {},
     "output_type": "display_data"
    }
   ],
   "source": [
    "import sympy as sp\n",
    "import numpy as np\n",
    "import matplotlib.pyplot as plt\n",
    "\n",
    "# 定义函数及其1,3,5阶泰勒展开式\n",
    "def f(x):\n",
    "    return np.cos(np.sqrt(x ** 2 + 1))\n",
    "\n",
    "def taylor_1(x):\n",
    "    return sp.cos(1)+0*x\n",
    "\n",
    "def taylor_3(x):\n",
    "    return sp.cos(1) -sp.sin(1)*(x ** 2) / 2\n",
    "\n",
    "def taylor_5(x):\n",
    "    return sp.cos(1) - (x ** 2) / 2 + (x ** 4) / 24\n",
    "\n",
    "# 定义x的取值范围\n",
    "x = np.linspace(-3, 3, 1000)\n",
    "\n",
    "# 绘制函数及其泰勒展开式的图像\n",
    "plt.plot(x, f(x), label='cos(sqrt(x^2+1))')\n",
    "plt.plot(x, taylor_1(x), label='1st-order Taylor')\n",
    "plt.plot(x, taylor_3(x), label='3rd-order Taylor')\n",
    "plt.plot(x, taylor_5(x), label='5th-order Taylor')\n",
    "\n",
    "# 绘制x=0处的垂直线\n",
    "plt.axvline(x=0, color='black', linestyle='--')\n",
    "\n",
    "# 设置图例、标题和坐标轴标签\n",
    "plt.legend()\n",
    "plt.title('Taylor Series of cos(sqrt(x^2+1))')\n",
    "plt.xlabel('x')\n",
    "plt.ylabel('y')\n",
    "\n",
    "# 显示图像\n",
    "plt.show()"
   ]
  },
  {
   "cell_type": "markdown",
   "metadata": {},
   "source": [
    "3.11 一只兔子在坐标位置(20,0)处以速率3m/s沿y轴正向奔跑，一只猎狗从坐标原点4.5m/s追击兔子，猎狗追击方向始终正对着兔子。请绘制猎狗追击兔子的近似曲线，并估计追击时间。"
   ]
  },
  {
   "cell_type": "code",
   "execution_count": 33,
   "metadata": {},
   "outputs": [
    {
     "data": {
      "image/png": "[encoded data removed]",
      "text/plain": [
       "<Figure size 432x288 with 1 Axes>"
      ]
     },
     "metadata": {},
     "output_type": "display_data"
    },
    {
     "name": "stdout",
     "output_type": "stream",
     "text": [
      "Chase time: 7.099999999999893 s\n"
     ]
    }
   ],
   "source": [
    "import numpy as np\n",
    "import matplotlib.pyplot as plt\n",
    "\n",
    "# 定义兔子和猎狗的初始位置和速度\n",
    "rabbit_pos = np.array([20, 0])\n",
    "rabbit_v = np.array([0, 3])\n",
    "dog_pos = np.array([0, 0])\n",
    "dog_v = np.array([4.5, 0])\n",
    "\n",
    "# 计算猎狗的追击轨迹\n",
    "dt = 0.01  # 时间步长\n",
    "dog_trajectory = [dog_pos]  # 猎狗的轨迹\n",
    "t = 0  # 时间\n",
    "vec_pos=rabbit_pos-dog_pos\n",
    "while vec_pos[0] > 0.05:  # 当猎狗距离兔子小于0.05米时停止追击\n",
    "    angle = np.arctan2(rabbit_pos[1]-dog_pos[1], rabbit_pos[0]-dog_pos[0])\n",
    "    # 计算猎狗的新位置和速度\n",
    "    dog_v = np.array([4.5*np.cos(angle), 4.5*np.sin(angle)])\n",
    "    dog_pos = dog_pos + dog_v * dt\n",
    "    rabbit_pos=rabbit_pos+rabbit_v*dt\n",
    "    vec_pos=rabbit_pos-dog_pos\n",
    "    # 记录猎狗的轨迹\n",
    "    dog_trajectory.append(dog_pos)\n",
    "    # 更新时间\n",
    "    t += dt\n",
    "\n",
    "# 绘制猎狗追击兔子的轨迹\n",
    "dog_trajectory = np.array(dog_trajectory)\n",
    "plt.plot(dog_trajectory[:,0], dog_trajectory[:,1], label='Dog')\n",
    "plt.plot(rabbit_pos[0], rabbit_pos[1], 'o', label='Rabbit')\n",
    "\n",
    "# 设置图例、标题和坐标轴标签\n",
    "plt.legend()\n",
    "plt.title('Dog Chasing Rabbit')\n",
    "plt.xlabel('x (m)')\n",
    "plt.ylabel('y (m)')\n",
    "\n",
    "# 显示图像\n",
    "plt.show()\n",
    "\n",
    "# 打印追击时间\n",
    "print('Chase time:', t, 's')"
   ]
  },
  {
   "cell_type": "markdown",
   "metadata": {},
   "source": [
    "3.12 分别求下列积分的数值解<p>\n",
    "(1)$\\int_0^{\\infty}e^{-x}\\sin\\sqrt{x^2+2}$<p>\n",
    "(2)$\\iint_D (x^2+2y^2) dxdy$ 其中D是由曲线$x=y^2,y=x-2$所围成的区域。"
   ]
  },
  {
   "cell_type": "code",
   "execution_count": 36,
   "metadata": {},
   "outputs": [
    {
     "name": "stdout",
     "output_type": "stream",
     "text": [
      "The numerical result is: 0.8328534212790222\n"
     ]
    }
   ],
   "source": [
    "import numpy as np\n",
    "from scipy.integrate import quad\n",
    "\n",
    "# 定义被积函数\n",
    "def f(x):\n",
    "    return np.exp(-x) * np.sin(np.sqrt(x**2 + 2))\n",
    "\n",
    "# 定义积分区间\n",
    "a, b = 0, np.inf\n",
    "\n",
    "# 使用自适应辛普森积分法求解积分\n",
    "result, error = quad(f, a, b)\n",
    "\n",
    "# 输出结果\n",
    "print(\"The numerical result is:\", result)"
   ]
  },
  {
   "cell_type": "code",
   "execution_count": null,
   "metadata": {},
   "outputs": [],
   "source": []
  }
 ],
 "metadata": {
  "kernelspec": {
   "display_name": "Python 3",
   "language": "python",
   "name": "python3"
  },
  "language_info": {
   "codemirror_mode": {
    "name": "ipython",
    "version": 3
   },
   "file_extension": ".py",
   "mimetype": "text/x-python",
   "name": "python",
   "nbconvert_exporter": "python",
   "pygments_lexer": "ipython3",
   "version": "3.6.5"
  }
 },
 "nbformat": 4,
 "nbformat_minor": 2
}
